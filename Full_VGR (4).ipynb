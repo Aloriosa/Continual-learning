{
  "nbformat": 4,
  "nbformat_minor": 0,
  "metadata": {
    "colab": {
      "name": "Full_VGR",
      "provenance": [],
      "collapsed_sections": []
    },
    "kernelspec": {
      "name": "python3",
      "display_name": "Python 3"
    },
    "accelerator": "GPU"
  },
  "cells": [
    {
      "cell_type": "code",
      "metadata": {
        "id": "DG1b16-I2fo6",
        "colab_type": "code",
        "colab": {}
      },
      "source": [
        "import numpy as np\n",
        "import matplotlib.pyplot as plt\n",
        "%matplotlib inline\n",
        "import torch\n",
        "import torch.nn as nn\n",
        "import torch.nn.functional as F\n",
        "import torch.optim as optim\n",
        "import pickle, gzip\n",
        "import copy\n",
        "import math\n",
        "from torchvision import datasets, transforms\n",
        "from PIL import ImageOps\n",
        "from torch.utils.data import ConcatDataset\n",
        "import torch.utils.data as data_utils\n",
        "from torch.autograd import Variable\n",
        "from tqdm import tqdm\n",
        "from IPython import display\n",
        "from copy import deepcopy"
      ],
      "execution_count": 0,
      "outputs": []
    },
    {
      "cell_type": "code",
      "metadata": {
        "id": "0El19VCr4Hlb",
        "colab_type": "code",
        "colab": {}
      },
      "source": [
        "device = torch.device(\"cuda\" if torch.cuda.is_available() else \"cpu\")\n",
        "code_size= 100"
      ],
      "execution_count": 0,
      "outputs": []
    },
    {
      "cell_type": "code",
      "metadata": {
        "id": "hasKlXPu6MjA",
        "colab_type": "code",
        "outputId": "c66515f1-4f1a-4eef-bd96-eee084c5f556",
        "colab": {
          "base_uri": "https://localhost:8080/",
          "height": 34
        }
      },
      "source": [
        "from google.colab import drive\n",
        "drive.mount('/content/drive')"
      ],
      "execution_count": 24,
      "outputs": [
        {
          "output_type": "stream",
          "text": [
            "Mounted at /content/drive\n"
          ],
          "name": "stdout"
        }
      ]
    },
    {
      "cell_type": "markdown",
      "metadata": {
        "id": "jTAVaAoZ6UG-",
        "colab_type": "text"
      },
      "source": [
        "# Permuted MNIST"
      ]
    },
    {
      "cell_type": "code",
      "metadata": {
        "id": "KUQI9slY6Wp_",
        "colab_type": "code",
        "colab": {}
      },
      "source": [
        "class PermutedMnistGenerator():\n",
        "    def __init__(self, max_iter=10, random_seed=0):\n",
        "        # Open data file\n",
        "        f = gzip.open('/content/drive/My Drive/Jupyter/BayesML_Burnaev/CL_project/mnist.pkl.gz', 'rb')\n",
        "        train_set, valid_set, test_set = pickle.load(f, encoding='latin1')\n",
        "        f.close()\n",
        "\n",
        "        # Define train and test data\n",
        "        self.X_train = np.vstack((train_set[0], valid_set[0]))\n",
        "        self.Y_train = np.hstack((train_set[1], valid_set[1]))\n",
        "        self.X_test = test_set[0]\n",
        "        self.Y_test = test_set[1]\n",
        "        self.random_seed = random_seed\n",
        "        self.max_iter = max_iter\n",
        "        self.cur_iter = 0\n",
        "\n",
        "        self.out_dim = 10           # Total number of unique classes\n",
        "        self.class_list = range(10) # List of unique classes being considered, in the order they appear\n",
        "\n",
        "        # self.classes is the classes (with correct indices for training/testing) of interest at each task_id\n",
        "        self.classes = []\n",
        "        for iter in range(self.max_iter):\n",
        "            self.classes.append(range(0,10))\n",
        "\n",
        "        self.sets = self.classes\n",
        "\n",
        "    def get_dims(self):\n",
        "        # Get data input and output dimensions\n",
        "        return self.X_train.shape[1], self.out_dim\n",
        "\n",
        "    def next_task(self):\n",
        "        if self.cur_iter >= self.max_iter:\n",
        "            raise Exception('Number of tasks exceeded!')\n",
        "        else:\n",
        "            np.random.seed(self.cur_iter+self.random_seed)\n",
        "            perm_inds = list(range(self.X_train.shape[1]))\n",
        "            # First task is (unpermuted) MNIST, subsequent tasks are random permutations of pixels\n",
        "            if self.cur_iter > 0:\n",
        "                np.random.shuffle(perm_inds)\n",
        "\n",
        "            # Retrieve train data\n",
        "            next_x_train = deepcopy(self.X_train)\n",
        "            next_x_train = next_x_train[:,perm_inds]\n",
        "\n",
        "            # Initialise next_y_train to zeros, then change relevant entries to ones, and then stack\n",
        "            next_y_train = np.zeros((len(next_x_train), 10))\n",
        "            next_y_train[:,0:10] = np.eye(10)[self.Y_train]\n",
        "\n",
        "            # Retrieve test data\n",
        "            next_x_test = deepcopy(self.X_test)\n",
        "            next_x_test = next_x_test[:,perm_inds]\n",
        "\n",
        "            next_y_test = np.zeros((len(next_x_test), 10))\n",
        "            next_y_test[:,0:10] = np.eye(10)[self.Y_test]\n",
        "\n",
        "            self.cur_iter += 1\n",
        "\n",
        "            return next_x_train, next_y_train, next_x_test, next_y_test\n",
        "\n",
        "    def reset(self):\n",
        "        self.cur_iter = 0"
      ],
      "execution_count": 0,
      "outputs": []
    },
    {
      "cell_type": "markdown",
      "metadata": {
        "id": "5mzjzB6q26-H",
        "colab_type": "text"
      },
      "source": [
        "# GAN"
      ]
    },
    {
      "cell_type": "code",
      "metadata": {
        "id": "1394DqbL2x3F",
        "colab_type": "code",
        "colab": {}
      },
      "source": [
        "class GAN_generator(nn.Module):\n",
        "    def __init__(self, code_size, output_size):\n",
        "        super(GAN_generator, self).__init__()\n",
        "        #n_features = 100\n",
        "        #n_out = 784\n",
        "        self.generator_net =  nn.Sequential(\n",
        "            nn.Linear(code_size, 256),\n",
        "            nn.LeakyReLU(0.2),            \n",
        "            nn.Linear(256, 512),\n",
        "            nn.LeakyReLU(0.2),\n",
        "            nn.Linear(512, 1024),\n",
        "            nn.LeakyReLU(0.2),\n",
        "            nn.Linear(1024, output_size)\n",
        "        )\n",
        "\n",
        "    def forward(self, x):\n",
        "        return self.generator_net(x.cuda())\n",
        "    \n",
        "    \n",
        "class GAN_discriminator(nn.Module):\n",
        "    def __init__(self, input_size, output_size):\n",
        "        super(GAN_discriminator, self).__init__()\n",
        "        #n_features = 784\n",
        "        #n_out = 1\n",
        "        self.discriminator_net = nn.Sequential( \n",
        "            nn.Linear(input_size, 1024),\n",
        "            nn.LeakyReLU(0.2),\n",
        "            nn.Linear(1024, 512),\n",
        "            nn.LeakyReLU(0.2),\n",
        "            nn.Linear(512, 256),\n",
        "            nn.LeakyReLU(0.2),\n",
        "            nn.Linear(256, output_size)\n",
        "        )    \n",
        "\n",
        "    def forward(self, x):\n",
        "        return self.discriminator_net(x.cuda())\n",
        "\n",
        "    \n",
        "# Noise\n",
        "def sample_noise_batch(batch_size, code_size):\n",
        "    n = Variable(torch.randn(batch_size, code_size))\n",
        "    return n.cuda() \n",
        "    \n",
        "def images_to_vectors(images):\n",
        "    return images.view(images.size(0), 784)\n",
        "\n",
        "def vectors_to_images(vectors):\n",
        "    return vectors.view(vectors.size(0), 1, 28, 28) \n",
        "\n",
        "def generator_loss(generator, discriminator, noise):\n",
        "    generated_data = generator(noise)\n",
        "    disc_on_generated_data = discriminator(generated_data)\n",
        "    logp_gen_is_real = F.logsigmoid(disc_on_generated_data)\n",
        "    loss = -torch.mean(logp_gen_is_real, 0)\n",
        "    return loss\n",
        "\n",
        "def discriminator_loss(discriminator, real_data, generated_data):\n",
        "    disc_on_real_data = discriminator(real_data)\n",
        "    disc_on_fake_data = discriminator(generated_data)\n",
        "    logp_real_is_real = F.logsigmoid(disc_on_real_data)\n",
        "    logp_gen_is_fake = F.logsigmoid(- disc_on_fake_data)\n",
        "    loss = -torch.mean(logp_real_is_real, 0) - torch.mean(logp_gen_is_fake, 0)\n",
        "    return loss"
      ],
      "execution_count": 0,
      "outputs": []
    },
    {
      "cell_type": "code",
      "metadata": {
        "id": "z-UBhCWL29zr",
        "colab_type": "code",
        "colab": {}
      },
      "source": [
        "def sample_images(axs, generator, nrow, ncol, code_size, sharp=False):\n",
        "    images = generator(sample_noise_batch(batch_size=nrow*ncol, code_size=code_size))\n",
        "    images = images.data.cpu().numpy().reshape(nrow*ncol, 28, 28)\n",
        "    if np.var(images)!=0:\n",
        "        images = images.clip(0., 1.)#np.min(train_set[0]),np.max(train_set[0]))\n",
        "    for i in range(nrow*ncol):\n",
        "        ax = axs[i // ncol][i % ncol]\n",
        "        if sharp:\n",
        "            ax.imshow(images[i], cmap=\"gray\", interpolation=\"none\")\n",
        "        else:\n",
        "            ax.imshow(images[i], cmap=\"gray\")\n",
        "        ax.xaxis.set_visible(False)\n",
        "        ax.yaxis.set_visible(False)\n",
        "        \n",
        "    '''\n",
        "        plt.subplot(nrow,ncol,i+1)\n",
        "        if sharp:\n",
        "            plt.imshow(images[i], interpolation=\"none\")\n",
        "        else:\n",
        "            plt.imshow(images[i])\n",
        "        \n",
        "    plt.show()\n",
        "    '''\n",
        "    return \n",
        "def sample_probas(ax, discriminator, generator, batch_size, x_batch, code_size):\n",
        "    plt.title('Generated vs real data')\n",
        "    \n",
        "    D_real = torch.sigmoid(discriminator(x_batch))\n",
        "    generated_data_batch = generator(sample_noise_batch(batch_size, code_size))\n",
        "    D_fake = torch.sigmoid(discriminator(generated_data_batch))\n",
        "    \n",
        "    ax.hist(D_real.data.cpu().numpy(),\n",
        "             label='D(x)', alpha=0.5, range=[0,1])\n",
        "    ax.hist(D_fake.data.cpu().numpy(),\n",
        "             label='D(G(z))', alpha=0.5, range=[0,1])\n",
        "    ax.legend(loc='best')\n",
        "    #plt.show()\n"
      ],
      "execution_count": 0,
      "outputs": []
    },
    {
      "cell_type": "code",
      "metadata": {
        "id": "kbhDuRt03dyl",
        "colab_type": "code",
        "colab": {}
      },
      "source": [
        "def GAN_train(discr_input, discr_output, gen_input, gen_output, batch_size, data_loader, n_epochs):\n",
        "    d_losses = []\n",
        "    g_losses = []\n",
        "    max_g = 3\n",
        "    axs = [[[] for _ in range(max_g)] for _ in range(2)]\n",
        "    \n",
        "    discriminator = GAN_discriminator(discr_input, discr_output)\n",
        "    discriminator.cuda()\n",
        "    generator = GAN_generator(gen_input, gen_output)\n",
        "    generator.cuda()\n",
        "    \n",
        "    #optimizers\n",
        "    disc_opt = torch.optim.Adam(discriminator.parameters(), lr=2e-4, betas=[0.5, 0.999])\n",
        "    gen_opt = torch.optim.Adam(generator.parameters(), lr=2e-4, betas=[0.5, 0.999])\n",
        "    \n",
        "    for epoch in range(n_epochs):\n",
        "        if  len(g_losses) == 0 or (g_losses[-1] < d_losses[-1] * 16): #Hack? Yeah, it's hack.\n",
        "            d_loss = []\n",
        "            for i in range(10):\n",
        "                # Train discriminator\n",
        "                data_loader_iter = iter(data_loader)\n",
        "                x_batch, y_batch = next(data_loader_iter)\n",
        "                fake_data = generator(sample_noise_batch(batch_size, gen_input)) #gen_input==code_size\n",
        "                disc_loss = discriminator_loss(discriminator, x_batch, fake_data)\n",
        "                disc_opt.zero_grad()\n",
        "                disc_loss.backward()\n",
        "                disc_opt.step()\n",
        "                d_loss.append(disc_loss.data.cpu().numpy()[0])\n",
        "\n",
        "                \n",
        "        if len(d_losses) > 0:\n",
        "            d_losses.append(np.mean(d_loss) * 0.05 + d_losses[-1] * (1 - 0.05))\n",
        "        else:\n",
        "            d_losses.append(np.mean(d_loss))\n",
        "\n",
        "        # Train generator\n",
        "        noise = sample_noise_batch(batch_size, gen_input)\n",
        "        gen_loss = generator_loss(generator, discriminator, noise)\n",
        "        gen_opt.zero_grad()\n",
        "        gen_loss.backward()\n",
        "        gen_opt.step()\n",
        "        \n",
        "        if len(g_losses) > 0:\n",
        "            g_losses.append(gen_loss.data.cpu().numpy()[0] * 0.05 + g_losses[-1] * (1 - 0.05))\n",
        "        else:\n",
        "            g_losses.append(gen_loss.data.cpu().numpy()[0])\n",
        "    \n",
        "        \n",
        "        #plot results\n",
        "        if epoch %100==0:\n",
        "           \n",
        "            #display.clear_output(True)\n",
        "            '''\n",
        "            plt.figure(figsize=(18, 4))\n",
        "\n",
        "            ax = plt.subplot2grid((2,3 + max_g + 2), (0,0), colspan=3, rowspan=2)\n",
        "            ax.set_title(\"D-Loss\")\n",
        "            ax.set_xlabel(\"#iteration\")\n",
        "            ax.set_ylabel(\"loss\")\n",
        "            ax.plot(g_losses, 'r', label='G-loss', alpha=0.8)\n",
        "            ax.plot(d_losses, 'b', label='D-loss', alpha=0.8)\n",
        "            ax.legend()\n",
        "            ax.grid(True)\n",
        "\n",
        "            for i in range(0, 2):\n",
        "                for j in range(3, 3 + max_g):\n",
        "                    axs[i][j - 3] = plt.subplot2grid((2, 3 + max_g + 2), (i, j))\n",
        "            sample_images(axs, generator, 2, max_g, gen_input, True)\n",
        "\n",
        "            ax = plt.subplot2grid((2, 3 + max_g + 2), (0, 3 + max_g), colspan=2, rowspan=2)\n",
        "            prev_hist = sample_probas(ax, discriminator, generator, 1000, x_batch, gen_input)\n",
        "            plt.tight_layout()\n",
        "            plt.show()\n",
        "\n",
        "            \n",
        "            sample_images(generator, 2, 3, gen_input, sharp=True)\n",
        "            sample_probas(discriminator, generator, 1000, x_batch, gen_input)\n",
        "            '''\n",
        "            #print('epoch {}\\n'.format(epoch))\n",
        "            #print('dlosses {}\\n'.format(d_losses))\n",
        "            #print('glosses {}\\n'.format(g_losses))\n",
        "\n",
        "    return generator"
      ],
      "execution_count": 0,
      "outputs": []
    },
    {
      "cell_type": "markdown",
      "metadata": {
        "id": "HOs1fD084MtI",
        "colab_type": "text"
      },
      "source": [
        "# Solver"
      ]
    },
    {
      "cell_type": "code",
      "metadata": {
        "id": "2uwHZtSx39qM",
        "colab_type": "code",
        "colab": {}
      },
      "source": [
        "class BayesLinear(nn.Module):\n",
        "    def __init__(self, in_features, out_features):\n",
        "        super().__init__()\n",
        "        self.in_features = in_features\n",
        "        self.out_features = out_features\n",
        "        \n",
        "        # Weight parameters 1-dim params for each layer\n",
        "        self.weight_mu = nn.Parameter(torch.zeros(out_features, in_features))\n",
        "        self.weight_sigma = nn.Parameter(1e-6 * torch.ones(out_features, in_features))\n",
        "        self.weight = torch.distributions.Normal(self.weight_mu, self.weight_sigma)\n",
        "        \n",
        "        # Prior distribution\n",
        "        self.weight_prior_mu = torch.Tensor([0.]).to(device) #torch.zeros(in_features)\n",
        "        self.weight_prior_sigma = torch.Tensor([1.]).to(device) #torch.ones(in_features)\n",
        "        #self.weight_prior = torch.distributions.Normal(self.weight_prior_mu, self.weight_prior_sigma)\n",
        "        \n",
        "        self.log_prior = 0.\n",
        "        self.log_variational_posterior = 0.\n",
        "\n",
        "    def forward(self, input, sampling=False, calculate_log_probs=False):\n",
        "        if self.training or sampling:\n",
        "            weight = self.weight.sample()\n",
        "        else:\n",
        "            weight = self.weight.mean\n",
        "        '''\n",
        "        if self.training or calculate_log_probs:\n",
        "            self.log_prior = self.weight_prior.log_prob(weight)\n",
        "            self.log_variational_posterior = self.weight.log_prob(weight)\n",
        "        else:\n",
        "            self.log_prior, self.log_variational_posterior = 0., 0.\n",
        "        '''\n",
        "        return F.linear(input, weight)\n",
        "    \n",
        "    def kl(self):\n",
        "        return (torch.log(torch.sqrt(self.weight_prior_sigma)) - torch.log(torch.sqrt(self.weight_sigma)) + (\n",
        "            (self.weight_mu - self.weight_prior_mu) ** 2 + self.weight_sigma - self.weight_prior_sigma) / (\n",
        "            2. * self.weight_prior_sigma)).sum()\n",
        "    "
      ],
      "execution_count": 0,
      "outputs": []
    },
    {
      "cell_type": "code",
      "metadata": {
        "id": "wAvep1Q64Qq5",
        "colab_type": "code",
        "colab": {}
      },
      "source": [
        "class Solver(nn.Module):\n",
        "    def __init__(self, input_size, hidden_size, output_size):\n",
        "        #hidden_size=100\n",
        "        super(Solver, self).__init__()\n",
        "        self.l1 = BayesLinear(input_size, hidden_size)\n",
        "        self.l2 = BayesLinear(hidden_size, hidden_size)\n",
        "        self.l3 = BayesLinear(hidden_size, output_size)\n",
        "        self.relu = nn.ReLU()\n",
        "        \n",
        "    def forward(self, x, sampling=False):\n",
        "        output = self.l1(x, sampling=sampling)\n",
        "        output = self.relu(output)\n",
        "        output = self.l2(output, sampling=sampling)\n",
        "        output = self.relu(output)\n",
        "        return self.l3(output, sampling=sampling)\n",
        "    \n",
        "    \n",
        "    def log_prior(self):\n",
        "        return self.l1.log_prior \\\n",
        "               + self.l2.log_prior \\\n",
        "               + self.l3.log_prior\n",
        "    \n",
        "    def log_variational_posterior(self):\n",
        "        return self.l1.log_variational_posterior \\\n",
        "               + self.l2.log_variational_posterior \\\n",
        "               + self.l2.log_variational_posterior\n",
        "    \n",
        "    \n",
        "    def loss(self, gans, solvers, x_curr, y_curr):\n",
        "        kl = self.l1.kl() + self.l2.kl() + self.l3.kl()\n",
        "        sumloglik = 0.\n",
        "        if len(gans) > 0:\n",
        "            for gan, solver in zip(gans[:-1], solvers[:-1]):\n",
        "                x_gan = gan(sample_noise_batch(batch_size=len(x_curr), code_size=code_size))\n",
        "                y_gan = solver(x_gan, sampling=True)\n",
        "                logits = self.forward(x_gan, sampling=True)\n",
        "                sumloglik += F.binary_cross_entropy_with_logits(logits, y_gan)\n",
        "            x_gan_new = gans[-1](sample_noise_batch(batch_size=60000, code_size=code_size))\n",
        "            y_gan_new = solvers[-1](x_gan_new, sampling=True)\n",
        "            logits = self.forward(torch.cat([x_gan_new, x_curr],dim=0), sampling=False)\n",
        "            sumloglik += F.binary_cross_entropy_with_logits(logits, torch.cat([y_gan_new, y_curr],dim=0)) \n",
        "                \n",
        "        else:\n",
        "            logits = self.forward(x_curr, sampling=True)\n",
        "            sumloglik = F.binary_cross_entropy_with_logits(logits, y_curr)\n",
        "            \n",
        "        return kl + sumloglik #actually negsumloglik"
      ],
      "execution_count": 0,
      "outputs": []
    },
    {
      "cell_type": "code",
      "metadata": {
        "id": "sBNH_XgD4UZW",
        "colab_type": "code",
        "colab": {}
      },
      "source": [
        "def solver_train_predict(input_size, hidden_size, output_size, batch_size, train_loader, test_loader, n_epochs, seen_tasks,\n",
        "                         gans, solvers):\n",
        "    state_dict_path = '/content/drive/My Drive/Jupyter/BayesML_Burnaev/CL_project/solver_weights.pth'\n",
        "    net = Solver(input_size, hidden_size, output_size)\n",
        "    if len(gans) > 0:\n",
        "        net.load_state_dict(torch.load(state_dict_path))\n",
        "    net.to(device)\n",
        "    optimizer = optim.Adam(net.parameters())\n",
        "    \n",
        "    #training\n",
        "    net.train()\n",
        "    loss_list = []\n",
        "    for epoch in tqdm(range(n_epochs)):\n",
        "        cumulative_loss = 0.\n",
        "    \n",
        "        for i, (x_train, y_train) in enumerate(train_loader):\n",
        "            x_train = x_train.to(device)\n",
        "            y_train = y_train.to(device)\n",
        "            \n",
        "            net.zero_grad()\n",
        "            loss = net.loss(gans, solvers, x_train, y_train)\n",
        "            loss.backward()\n",
        "            optimizer.step()\n",
        "            \n",
        "            cumulative_loss += loss.detach().cpu().numpy()\n",
        "       \n",
        "        loss_list.append(cumulative_loss / float(i + 1))\n",
        "        print('solver_losses = {}\\n'.format(loss_list))\n",
        "        torch.save(net.state_dict(), state_dict_path)\n",
        "    #prediction\n",
        "    net.eval()\n",
        "    with torch.no_grad():\n",
        "        preds_acc_sum = 0.\n",
        "        for i, (x_test, y_test) in enumerate(test_loader):\n",
        "            x_test = x_test.to(device)\n",
        "            y_test = y_test.to(device)\n",
        "            logits = net(x_test, sampling=True)\n",
        "            pred_idx = logits.max(1, keepdims=True)[1].transpose(0,1).detach().cpu().numpy()[0]\n",
        "            y_test_np = y_test.detach().cpu().numpy()\n",
        "            y_test_idx = [np.where(r==1)[0][0] for r in y_test_np]\n",
        "            preds_acc_sum += float(np.sum(pred_idx == y_test_idx) / len(pred_idx))\n",
        "        mean_preds_acc = preds_acc_sum / float(i + 1)\n",
        "        \n",
        "    return net, mean_preds_acc, loss_list"
      ],
      "execution_count": 0,
      "outputs": []
    },
    {
      "cell_type": "markdown",
      "metadata": {
        "id": "JjY6ro8A6cRI",
        "colab_type": "text"
      },
      "source": [
        "# Main loop"
      ]
    },
    {
      "cell_type": "code",
      "metadata": {
        "id": "2XkRIHf36bde",
        "colab_type": "code",
        "colab": {}
      },
      "source": [
        "def scholar_train(n_tasks=5, batch_size=256, gan_epochs=301, solver_epochs=5):\n",
        "    gans = []\n",
        "    solvers = []\n",
        "    solver_losses = []\n",
        "    data_gen = PermutedMnistGenerator(max_iter=n_tasks, random_seed=0)\n",
        "    print('\\n dataset generated, starting tasks')\n",
        "    pred_accs = []\n",
        "    for task in tqdm(range(n_tasks)):\n",
        "        \n",
        "        #load task data\n",
        "        x_new_train, y_new_train, x_new_test, y_new_test = data_gen.next_task()\n",
        "        \n",
        "        x_train = torch.Tensor(x_new_train).to(device)\n",
        "        y_train = torch.Tensor(y_new_train).to(device)\n",
        "        train = data_utils.TensorDataset(x_train, y_train)\n",
        "        train_loader = data_utils.DataLoader(train, batch_size=batch_size, shuffle=True)\n",
        "        \n",
        "        x_test = torch.Tensor(x_new_test).to(device)\n",
        "        y_test = torch.Tensor(y_new_test).to(device)\n",
        "        test = data_utils.TensorDataset(x_test, y_test)\n",
        "        test_loader = data_utils.DataLoader(test, batch_size=batch_size, shuffle=True)\n",
        "        \n",
        "        \n",
        "        print('task {} data loaded'.format(task))\n",
        "        if task !=0:\n",
        "            \n",
        "            #train curr task Solver\n",
        "            print('running solver task {}'.format(task))\n",
        "            curr_solver, mean_pred_acc, curr_loss_list = solver_train_predict(input_size=784, hidden_size=100, output_size=10, batch_size=batch_size, \n",
        "                             train_loader=train_loader, test_loader=test_loader, n_epochs=solver_epochs, seen_tasks=task, \n",
        "                                               gans=gans, solvers=solvers)\n",
        "            solvers.append(curr_solver)\n",
        "            pred_accs.append(mean_pred_acc)\n",
        "            solver_losses.append(curr_loss_list)\n",
        "            \n",
        "            #train curr task GAN\n",
        "            print('running GAN task {}'.format(task))\n",
        "            curr_generator = GAN_train(discr_input=784, discr_output=1, gen_input=code_size, gen_output=784, \n",
        "                                   batch_size=batch_size, data_loader=train_loader, n_epochs=gan_epochs)\n",
        "            gans.append(curr_generator)\n",
        "            \n",
        "            \n",
        "        else:\n",
        "            print('running task {}'.format(task))\n",
        "            \n",
        "            #train first Solver\n",
        "            print('running solver task {}'.format(task))\n",
        "            curr_solver, mean_pred_acc, curr_loss_list = solver_train_predict(input_size=784, hidden_size=100, output_size=10, batch_size=batch_size, \n",
        "                             train_loader=train_loader, test_loader=test_loader, n_epochs=solver_epochs, seen_tasks=task, \n",
        "                                               gans=gans, solvers=solvers)\n",
        "            solvers.append(curr_solver)\n",
        "            pred_accs.append(mean_pred_acc)\n",
        "            solver_losses.append(curr_loss_list)\n",
        "            \n",
        "            #train first GAN\n",
        "            print('running GAN task {}'.format(task))\n",
        "            curr_generator = GAN_train(discr_input=784, discr_output=1, gen_input=code_size, gen_output=784, \n",
        "                                   batch_size=batch_size, data_loader=train_loader, n_epochs=gan_epochs)\n",
        "            gans.append(curr_generator)\n",
        "        \n",
        "        display.clear_output(True)\n",
        "        print('pred_accs {}'.format(pred_accs))\n",
        "        plt.figure(figsize=(12, 4))\n",
        "        plt.subplot(1, 2, 1)\n",
        "        plt.title('Prediction accuracy')\n",
        "        plt.xlabel('n_tasks')\n",
        "        plt.ylabel('accuracy')\n",
        "        plt.plot(pred_accs, 'b')\n",
        "        \n",
        "        plt.subplot(1, 2, 2)\n",
        "        plt.title('Task {} loss'.format(task))\n",
        "        plt.xlabel('n_iter')\n",
        "        plt.ylabel('loss')\n",
        "        plt.plot(curr_loss_list, 'r')\n",
        "        \n",
        "        plt.savefig('/content/drive/My Drive/Jupyter/BayesML_Burnaev/CL_project/acc_plot{}_tasks.png'.format(task))\n",
        "        \n",
        "        \n",
        "        plt.show()\n",
        "        \n",
        "        #print('gans after task {}: {}'.format(task, gans))\n",
        "        #print('solvers after task {}: {}'.format(task, solvers))\n",
        "\n",
        "        "
      ],
      "execution_count": 0,
      "outputs": []
    },
    {
      "cell_type": "code",
      "metadata": {
        "id": "cf1ybrVXAz5g",
        "colab_type": "code",
        "outputId": "3b13b297-b4c0-460c-991b-fce86749aaa8",
        "colab": {
          "base_uri": "https://localhost:8080/",
          "height": 1000
        }
      },
      "source": [
        "from google.colab import drive\n",
        "drive.mount('/content/drive')\n",
        "scholar_train(n_tasks=10, batch_size=256, gan_epochs=301, solver_epochs=100)#301, 120"
      ],
      "execution_count": 0,
      "outputs": [
        {
          "output_type": "stream",
          "text": [
            "Mounted at /content/drive\n"
          ],
          "name": "stdout"
        },
        {
          "output_type": "stream",
          "text": [
            "\n",
            "\n",
            "\n",
            "\n",
            "\n",
            "\n",
            "\n",
            "\n",
            "\n",
            "\n",
            "\n",
            "\n",
            "\n",
            "\n",
            "\n",
            "\n",
            "  0%|          | 0/10 [00:00<?, ?it/s]\u001b[A\u001b[A\u001b[A\u001b[A\u001b[A\u001b[A\u001b[A\u001b[A\u001b[A\u001b[A\u001b[A\u001b[A\u001b[A\u001b[A\u001b[A\u001b[A"
          ],
          "name": "stderr"
        },
        {
          "output_type": "stream",
          "text": [
            "\n",
            " dataset generated, starting tasks\n"
          ],
          "name": "stdout"
        },
        {
          "output_type": "stream",
          "text": [
            "\n",
            "\n",
            "\n",
            "\n",
            "\n",
            "\n",
            "\n",
            "\n",
            "\n",
            "\n",
            "\n",
            "\n",
            "\n",
            "\n",
            "\n",
            "\n",
            "\n",
            "  0%|          | 0/100 [00:00<?, ?it/s]\u001b[A\u001b[A\u001b[A\u001b[A\u001b[A\u001b[A\u001b[A\u001b[A\u001b[A\u001b[A\u001b[A\u001b[A\u001b[A\u001b[A\u001b[A\u001b[A\u001b[A"
          ],
          "name": "stderr"
        },
        {
          "output_type": "stream",
          "text": [
            "task 0 data loaded\n",
            "running task 0\n",
            "running solver task 0\n"
          ],
          "name": "stdout"
        },
        {
          "output_type": "stream",
          "text": [
            "\n",
            "\n",
            "\n",
            "\n",
            "\n",
            "\n",
            "\n",
            "\n",
            "\n",
            "\n",
            "\n",
            "\n",
            "\n",
            "\n",
            "\n",
            "\n",
            "\n",
            "  1%|          | 1/100 [00:01<02:32,  1.54s/it]\u001b[A\u001b[A\u001b[A\u001b[A\u001b[A\u001b[A\u001b[A\u001b[A\u001b[A\u001b[A\u001b[A\u001b[A\u001b[A\u001b[A\u001b[A\u001b[A\u001b[A"
          ],
          "name": "stderr"
        },
        {
          "output_type": "stream",
          "text": [
            "solver_losses = [186728.3824468085]\n",
            "\n"
          ],
          "name": "stdout"
        },
        {
          "output_type": "stream",
          "text": [
            "\n",
            "\n",
            "\n",
            "\n",
            "\n",
            "\n",
            "\n",
            "\n",
            "\n",
            "\n",
            "\n",
            "\n",
            "\n",
            "\n",
            "\n",
            "\n",
            "\n",
            "  2%|▏         | 2/100 [00:03<02:30,  1.54s/it]\u001b[A\u001b[A\u001b[A\u001b[A\u001b[A\u001b[A\u001b[A\u001b[A\u001b[A\u001b[A\u001b[A\u001b[A\u001b[A\u001b[A\u001b[A\u001b[A\u001b[A"
          ],
          "name": "stderr"
        },
        {
          "output_type": "stream",
          "text": [
            "solver_losses = [186728.3824468085, 178991.9180851064]\n",
            "\n"
          ],
          "name": "stdout"
        },
        {
          "output_type": "stream",
          "text": [
            "\n",
            "\n",
            "\n",
            "\n",
            "\n",
            "\n",
            "\n",
            "\n",
            "\n",
            "\n",
            "\n",
            "\n",
            "\n",
            "\n",
            "\n",
            "\n",
            "\n",
            "  3%|▎         | 3/100 [00:04<02:31,  1.56s/it]\u001b[A\u001b[A\u001b[A\u001b[A\u001b[A\u001b[A\u001b[A\u001b[A\u001b[A\u001b[A\u001b[A\u001b[A\u001b[A\u001b[A\u001b[A\u001b[A\u001b[A"
          ],
          "name": "stderr"
        },
        {
          "output_type": "stream",
          "text": [
            "solver_losses = [186728.3824468085, 178991.9180851064, 174038.49574468084]\n",
            "\n"
          ],
          "name": "stdout"
        },
        {
          "output_type": "stream",
          "text": [
            "\n",
            "\n",
            "\n",
            "\n",
            "\n",
            "\n",
            "\n",
            "\n",
            "\n",
            "\n",
            "\n",
            "\n",
            "\n",
            "\n",
            "\n",
            "\n",
            "\n",
            "  4%|▍         | 4/100 [00:06<02:29,  1.55s/it]\u001b[A\u001b[A\u001b[A\u001b[A\u001b[A\u001b[A\u001b[A\u001b[A\u001b[A\u001b[A\u001b[A\u001b[A\u001b[A\u001b[A\u001b[A\u001b[A\u001b[A"
          ],
          "name": "stderr"
        },
        {
          "output_type": "stream",
          "text": [
            "solver_losses = [186728.3824468085, 178991.9180851064, 174038.49574468084, 168876.46482712767]\n",
            "\n"
          ],
          "name": "stdout"
        },
        {
          "output_type": "stream",
          "text": [
            "\n",
            "\n",
            "\n",
            "\n",
            "\n",
            "\n",
            "\n",
            "\n",
            "\n",
            "\n",
            "\n",
            "\n",
            "\n",
            "\n",
            "\n",
            "\n",
            "\n",
            "  5%|▌         | 5/100 [00:07<02:27,  1.55s/it]\u001b[A\u001b[A\u001b[A\u001b[A\u001b[A\u001b[A\u001b[A\u001b[A\u001b[A\u001b[A\u001b[A\u001b[A\u001b[A\u001b[A\u001b[A\u001b[A\u001b[A"
          ],
          "name": "stderr"
        },
        {
          "output_type": "stream",
          "text": [
            "solver_losses = [186728.3824468085, 178991.9180851064, 174038.49574468084, 168876.46482712767, 163819.36429521276]\n",
            "\n"
          ],
          "name": "stdout"
        },
        {
          "output_type": "stream",
          "text": [
            "\n",
            "\n",
            "\n",
            "\n",
            "\n",
            "\n",
            "\n",
            "\n",
            "\n",
            "\n",
            "\n",
            "\n",
            "\n",
            "\n",
            "\n",
            "\n",
            "\n",
            "  6%|▌         | 6/100 [00:09<02:27,  1.56s/it]\u001b[A\u001b[A\u001b[A\u001b[A\u001b[A\u001b[A\u001b[A\u001b[A\u001b[A\u001b[A\u001b[A\u001b[A\u001b[A\u001b[A\u001b[A\u001b[A\u001b[A"
          ],
          "name": "stderr"
        },
        {
          "output_type": "stream",
          "text": [
            "solver_losses = [186728.3824468085, 178991.9180851064, 174038.49574468084, 168876.46482712767, 163819.36429521276, 158982.1829787234]\n",
            "\n"
          ],
          "name": "stdout"
        },
        {
          "output_type": "stream",
          "text": [
            "\n",
            "\n",
            "\n",
            "\n",
            "\n",
            "\n",
            "\n",
            "\n",
            "\n",
            "\n",
            "\n",
            "\n",
            "\n",
            "\n",
            "\n",
            "\n",
            "\n",
            "  7%|▋         | 7/100 [00:10<02:24,  1.56s/it]\u001b[A\u001b[A\u001b[A\u001b[A\u001b[A\u001b[A\u001b[A\u001b[A\u001b[A\u001b[A\u001b[A\u001b[A\u001b[A\u001b[A\u001b[A\u001b[A\u001b[A"
          ],
          "name": "stderr"
        },
        {
          "output_type": "stream",
          "text": [
            "solver_losses = [186728.3824468085, 178991.9180851064, 174038.49574468084, 168876.46482712767, 163819.36429521276, 158982.1829787234, 154393.94295212766]\n",
            "\n"
          ],
          "name": "stdout"
        },
        {
          "output_type": "stream",
          "text": [
            "\n",
            "\n",
            "\n",
            "\n",
            "\n",
            "\n",
            "\n",
            "\n",
            "\n",
            "\n",
            "\n",
            "\n",
            "\n",
            "\n",
            "\n",
            "\n",
            "\n",
            "  8%|▊         | 8/100 [00:12<02:22,  1.55s/it]\u001b[A\u001b[A\u001b[A\u001b[A\u001b[A\u001b[A\u001b[A\u001b[A\u001b[A\u001b[A\u001b[A\u001b[A\u001b[A\u001b[A\u001b[A\u001b[A\u001b[A"
          ],
          "name": "stderr"
        },
        {
          "output_type": "stream",
          "text": [
            "solver_losses = [186728.3824468085, 178991.9180851064, 174038.49574468084, 168876.46482712767, 163819.36429521276, 158982.1829787234, 154393.94295212766, 150047.95212765958]\n",
            "\n"
          ],
          "name": "stdout"
        },
        {
          "output_type": "stream",
          "text": [
            "\n",
            "\n",
            "\n",
            "\n",
            "\n",
            "\n",
            "\n",
            "\n",
            "\n",
            "\n",
            "\n",
            "\n",
            "\n",
            "\n",
            "\n",
            "\n",
            "\n",
            "  9%|▉         | 9/100 [00:14<02:21,  1.56s/it]\u001b[A\u001b[A\u001b[A\u001b[A\u001b[A\u001b[A\u001b[A\u001b[A\u001b[A\u001b[A\u001b[A\u001b[A\u001b[A\u001b[A\u001b[A\u001b[A\u001b[A"
          ],
          "name": "stderr"
        },
        {
          "output_type": "stream",
          "text": [
            "solver_losses = [186728.3824468085, 178991.9180851064, 174038.49574468084, 168876.46482712767, 163819.36429521276, 158982.1829787234, 154393.94295212766, 150047.95212765958, 145924.0662898936]\n",
            "\n"
          ],
          "name": "stdout"
        },
        {
          "output_type": "stream",
          "text": [
            "\n",
            "\n",
            "\n",
            "\n",
            "\n",
            "\n",
            "\n",
            "\n",
            "\n",
            "\n",
            "\n",
            "\n",
            "\n",
            "\n",
            "\n",
            "\n",
            "\n",
            " 10%|█         | 10/100 [00:15<02:19,  1.55s/it]\u001b[A\u001b[A\u001b[A\u001b[A\u001b[A\u001b[A\u001b[A\u001b[A\u001b[A\u001b[A\u001b[A\u001b[A\u001b[A\u001b[A\u001b[A\u001b[A\u001b[A"
          ],
          "name": "stderr"
        },
        {
          "output_type": "stream",
          "text": [
            "solver_losses = [186728.3824468085, 178991.9180851064, 174038.49574468084, 168876.46482712767, 163819.36429521276, 158982.1829787234, 154393.94295212766, 150047.95212765958, 145924.0662898936, 141998.38184840424]\n",
            "\n"
          ],
          "name": "stdout"
        },
        {
          "output_type": "stream",
          "text": [
            "\n",
            "\n",
            "\n",
            "\n",
            "\n",
            "\n",
            "\n",
            "\n",
            "\n",
            "\n",
            "\n",
            "\n",
            "\n",
            "\n",
            "\n",
            "\n",
            "\n",
            " 11%|█         | 11/100 [00:17<02:17,  1.55s/it]\u001b[A\u001b[A\u001b[A\u001b[A\u001b[A\u001b[A\u001b[A\u001b[A\u001b[A\u001b[A\u001b[A\u001b[A\u001b[A\u001b[A\u001b[A\u001b[A\u001b[A"
          ],
          "name": "stderr"
        },
        {
          "output_type": "stream",
          "text": [
            "solver_losses = [186728.3824468085, 178991.9180851064, 174038.49574468084, 168876.46482712767, 163819.36429521276, 158982.1829787234, 154393.94295212766, 150047.95212765958, 145924.0662898936, 141998.38184840424, 138247.38843085108]\n",
            "\n"
          ],
          "name": "stdout"
        },
        {
          "output_type": "stream",
          "text": [
            "\n",
            "\n",
            "\n",
            "\n",
            "\n",
            "\n",
            "\n",
            "\n",
            "\n",
            "\n",
            "\n",
            "\n",
            "\n",
            "\n",
            "\n",
            "\n",
            "\n",
            " 12%|█▏        | 12/100 [00:18<02:16,  1.55s/it]\u001b[A\u001b[A\u001b[A\u001b[A\u001b[A\u001b[A\u001b[A\u001b[A\u001b[A\u001b[A\u001b[A\u001b[A\u001b[A\u001b[A\u001b[A\u001b[A\u001b[A"
          ],
          "name": "stderr"
        },
        {
          "output_type": "stream",
          "text": [
            "solver_losses = [186728.3824468085, 178991.9180851064, 174038.49574468084, 168876.46482712767, 163819.36429521276, 158982.1829787234, 154393.94295212766, 150047.95212765958, 145924.0662898936, 141998.38184840424, 138247.38843085108, 134649.52898936172]\n",
            "\n"
          ],
          "name": "stdout"
        },
        {
          "output_type": "stream",
          "text": [
            "\n",
            "\n",
            "\n",
            "\n",
            "\n",
            "\n",
            "\n",
            "\n",
            "\n",
            "\n",
            "\n",
            "\n",
            "\n",
            "\n",
            "\n",
            "\n",
            "\n",
            " 13%|█▎        | 13/100 [00:20<02:14,  1.54s/it]\u001b[A\u001b[A\u001b[A\u001b[A\u001b[A\u001b[A\u001b[A\u001b[A\u001b[A\u001b[A\u001b[A\u001b[A\u001b[A\u001b[A\u001b[A\u001b[A\u001b[A"
          ],
          "name": "stderr"
        },
        {
          "output_type": "stream",
          "text": [
            "solver_losses = [186728.3824468085, 178991.9180851064, 174038.49574468084, 168876.46482712767, 163819.36429521276, 158982.1829787234, 154393.94295212766, 150047.95212765958, 145924.0662898936, 141998.38184840424, 138247.38843085108, 134649.52898936172, 131185.74265292555]\n",
            "\n"
          ],
          "name": "stdout"
        },
        {
          "output_type": "stream",
          "text": [
            "\n",
            "\n",
            "\n",
            "\n",
            "\n",
            "\n",
            "\n",
            "\n",
            "\n",
            "\n",
            "\n",
            "\n",
            "\n",
            "\n",
            "\n",
            "\n",
            "\n",
            " 14%|█▍        | 14/100 [00:21<02:13,  1.55s/it]\u001b[A\u001b[A\u001b[A\u001b[A\u001b[A\u001b[A\u001b[A\u001b[A\u001b[A\u001b[A\u001b[A\u001b[A\u001b[A\u001b[A\u001b[A\u001b[A\u001b[A"
          ],
          "name": "stderr"
        },
        {
          "output_type": "stream",
          "text": [
            "solver_losses = [186728.3824468085, 178991.9180851064, 174038.49574468084, 168876.46482712767, 163819.36429521276, 158982.1829787234, 154393.94295212766, 150047.95212765958, 145924.0662898936, 141998.38184840424, 138247.38843085108, 134649.52898936172, 131185.74265292555, 127839.43670212766]\n",
            "\n"
          ],
          "name": "stdout"
        },
        {
          "output_type": "stream",
          "text": [
            "\n",
            "\n",
            "\n",
            "\n",
            "\n",
            "\n",
            "\n",
            "\n",
            "\n",
            "\n",
            "\n",
            "\n",
            "\n",
            "\n",
            "\n",
            "\n",
            "\n",
            " 15%|█▌        | 15/100 [00:23<02:12,  1.56s/it]\u001b[A\u001b[A\u001b[A\u001b[A\u001b[A\u001b[A\u001b[A\u001b[A\u001b[A\u001b[A\u001b[A\u001b[A\u001b[A\u001b[A\u001b[A\u001b[A\u001b[A"
          ],
          "name": "stderr"
        },
        {
          "output_type": "stream",
          "text": [
            "solver_losses = [186728.3824468085, 178991.9180851064, 174038.49574468084, 168876.46482712767, 163819.36429521276, 158982.1829787234, 154393.94295212766, 150047.95212765958, 145924.0662898936, 141998.38184840424, 138247.38843085108, 134649.52898936172, 131185.74265292555, 127839.43670212766, 124596.24906914894]\n",
            "\n"
          ],
          "name": "stdout"
        },
        {
          "output_type": "stream",
          "text": [
            "\n",
            "\n",
            "\n",
            "\n",
            "\n",
            "\n",
            "\n",
            "\n",
            "\n",
            "\n",
            "\n",
            "\n",
            "\n",
            "\n",
            "\n",
            "\n",
            "\n",
            " 16%|█▌        | 16/100 [00:24<02:10,  1.55s/it]\u001b[A\u001b[A\u001b[A\u001b[A\u001b[A\u001b[A\u001b[A\u001b[A\u001b[A\u001b[A\u001b[A\u001b[A\u001b[A\u001b[A\u001b[A\u001b[A\u001b[A"
          ],
          "name": "stderr"
        },
        {
          "output_type": "stream",
          "text": [
            "solver_losses = [186728.3824468085, 178991.9180851064, 174038.49574468084, 168876.46482712767, 163819.36429521276, 158982.1829787234, 154393.94295212766, 150047.95212765958, 145924.0662898936, 141998.38184840424, 138247.38843085108, 134649.52898936172, 131185.74265292555, 127839.43670212766, 124596.24906914894, 121443.85388962766]\n",
            "\n"
          ],
          "name": "stdout"
        },
        {
          "output_type": "stream",
          "text": [
            "\n",
            "\n",
            "\n",
            "\n",
            "\n",
            "\n",
            "\n",
            "\n",
            "\n",
            "\n",
            "\n",
            "\n",
            "\n",
            "\n",
            "\n",
            "\n",
            "\n",
            " 17%|█▋        | 17/100 [00:26<02:09,  1.57s/it]\u001b[A\u001b[A\u001b[A\u001b[A\u001b[A\u001b[A\u001b[A\u001b[A\u001b[A\u001b[A\u001b[A\u001b[A\u001b[A\u001b[A\u001b[A\u001b[A\u001b[A"
          ],
          "name": "stderr"
        },
        {
          "output_type": "stream",
          "text": [
            "solver_losses = [186728.3824468085, 178991.9180851064, 174038.49574468084, 168876.46482712767, 163819.36429521276, 158982.1829787234, 154393.94295212766, 150047.95212765958, 145924.0662898936, 141998.38184840424, 138247.38843085108, 134649.52898936172, 131185.74265292555, 127839.43670212766, 124596.24906914894, 121443.85388962766, 118371.6652925532]\n",
            "\n"
          ],
          "name": "stdout"
        },
        {
          "output_type": "stream",
          "text": [
            "\n",
            "\n",
            "\n",
            "\n",
            "\n",
            "\n",
            "\n",
            "\n",
            "\n",
            "\n",
            "\n",
            "\n",
            "\n",
            "\n",
            "\n",
            "\n",
            "\n",
            " 18%|█▊        | 18/100 [00:28<02:08,  1.57s/it]\u001b[A\u001b[A\u001b[A\u001b[A\u001b[A\u001b[A\u001b[A\u001b[A\u001b[A\u001b[A\u001b[A\u001b[A\u001b[A\u001b[A\u001b[A\u001b[A\u001b[A"
          ],
          "name": "stderr"
        },
        {
          "output_type": "stream",
          "text": [
            "solver_losses = [186728.3824468085, 178991.9180851064, 174038.49574468084, 168876.46482712767, 163819.36429521276, 158982.1829787234, 154393.94295212766, 150047.95212765958, 145924.0662898936, 141998.38184840424, 138247.38843085108, 134649.52898936172, 131185.74265292555, 127839.43670212766, 124596.24906914894, 121443.85388962766, 118371.6652925532, 115370.6157912234]\n",
            "\n"
          ],
          "name": "stdout"
        },
        {
          "output_type": "stream",
          "text": [
            "\n",
            "\n",
            "\n",
            "\n",
            "\n",
            "\n",
            "\n",
            "\n",
            "\n",
            "\n",
            "\n",
            "\n",
            "\n",
            "\n",
            "\n",
            "\n",
            "\n",
            " 19%|█▉        | 19/100 [00:29<02:07,  1.58s/it]\u001b[A\u001b[A\u001b[A\u001b[A\u001b[A\u001b[A\u001b[A\u001b[A\u001b[A\u001b[A\u001b[A\u001b[A\u001b[A\u001b[A\u001b[A\u001b[A\u001b[A"
          ],
          "name": "stderr"
        },
        {
          "output_type": "stream",
          "text": [
            "solver_losses = [186728.3824468085, 178991.9180851064, 174038.49574468084, 168876.46482712767, 163819.36429521276, 158982.1829787234, 154393.94295212766, 150047.95212765958, 145924.0662898936, 141998.38184840424, 138247.38843085108, 134649.52898936172, 131185.74265292555, 127839.43670212766, 124596.24906914894, 121443.85388962766, 118371.6652925532, 115370.6157912234, 112432.89039228723]\n",
            "\n"
          ],
          "name": "stdout"
        },
        {
          "output_type": "stream",
          "text": [
            "\n",
            "\n",
            "\n",
            "\n",
            "\n",
            "\n",
            "\n",
            "\n",
            "\n",
            "\n",
            "\n",
            "\n",
            "\n",
            "\n",
            "\n",
            "\n",
            "\n",
            " 20%|██        | 20/100 [00:31<02:07,  1.59s/it]\u001b[A\u001b[A\u001b[A\u001b[A\u001b[A\u001b[A\u001b[A\u001b[A\u001b[A\u001b[A\u001b[A\u001b[A\u001b[A\u001b[A\u001b[A\u001b[A\u001b[A"
          ],
          "name": "stderr"
        },
        {
          "output_type": "stream",
          "text": [
            "solver_losses = [186728.3824468085, 178991.9180851064, 174038.49574468084, 168876.46482712767, 163819.36429521276, 158982.1829787234, 154393.94295212766, 150047.95212765958, 145924.0662898936, 141998.38184840424, 138247.38843085108, 134649.52898936172, 131185.74265292555, 127839.43670212766, 124596.24906914894, 121443.85388962766, 118371.6652925532, 115370.6157912234, 112432.89039228723, 109551.80056515957]\n",
            "\n"
          ],
          "name": "stdout"
        },
        {
          "output_type": "stream",
          "text": [
            "\n",
            "\n",
            "\n",
            "\n",
            "\n",
            "\n",
            "\n",
            "\n",
            "\n",
            "\n",
            "\n",
            "\n",
            "\n",
            "\n",
            "\n",
            "\n",
            "\n",
            " 21%|██        | 21/100 [00:32<02:05,  1.59s/it]\u001b[A\u001b[A\u001b[A\u001b[A\u001b[A\u001b[A\u001b[A\u001b[A\u001b[A\u001b[A\u001b[A\u001b[A\u001b[A\u001b[A\u001b[A\u001b[A\u001b[A"
          ],
          "name": "stderr"
        },
        {
          "output_type": "stream",
          "text": [
            "solver_losses = [186728.3824468085, 178991.9180851064, 174038.49574468084, 168876.46482712767, 163819.36429521276, 158982.1829787234, 154393.94295212766, 150047.95212765958, 145924.0662898936, 141998.38184840424, 138247.38843085108, 134649.52898936172, 131185.74265292555, 127839.43670212766, 124596.24906914894, 121443.85388962766, 118371.6652925532, 115370.6157912234, 112432.89039228723, 109551.80056515957, 106721.62692819149]\n",
            "\n"
          ],
          "name": "stdout"
        },
        {
          "output_type": "stream",
          "text": [
            "\n",
            "\n",
            "\n",
            "\n",
            "\n",
            "\n",
            "\n",
            "\n",
            "\n",
            "\n",
            "\n",
            "\n",
            "\n",
            "\n",
            "\n",
            "\n",
            "\n",
            " 22%|██▏       | 22/100 [00:34<02:04,  1.60s/it]\u001b[A\u001b[A\u001b[A\u001b[A\u001b[A\u001b[A\u001b[A\u001b[A\u001b[A\u001b[A\u001b[A\u001b[A\u001b[A\u001b[A\u001b[A\u001b[A\u001b[A"
          ],
          "name": "stderr"
        },
        {
          "output_type": "stream",
          "text": [
            "solver_losses = [186728.3824468085, 178991.9180851064, 174038.49574468084, 168876.46482712767, 163819.36429521276, 158982.1829787234, 154393.94295212766, 150047.95212765958, 145924.0662898936, 141998.38184840424, 138247.38843085108, 134649.52898936172, 131185.74265292555, 127839.43670212766, 124596.24906914894, 121443.85388962766, 118371.6652925532, 115370.6157912234, 112432.89039228723, 109551.80056515957, 106721.62692819149, 103937.46898271277]\n",
            "\n"
          ],
          "name": "stdout"
        },
        {
          "output_type": "stream",
          "text": [
            "\n",
            "\n",
            "\n",
            "\n",
            "\n",
            "\n",
            "\n",
            "\n",
            "\n",
            "\n",
            "\n",
            "\n",
            "\n",
            "\n",
            "\n",
            "\n",
            "\n",
            " 23%|██▎       | 23/100 [00:36<02:02,  1.59s/it]\u001b[A\u001b[A\u001b[A\u001b[A\u001b[A\u001b[A\u001b[A\u001b[A\u001b[A\u001b[A\u001b[A\u001b[A\u001b[A\u001b[A\u001b[A\u001b[A\u001b[A"
          ],
          "name": "stderr"
        },
        {
          "output_type": "stream",
          "text": [
            "solver_losses = [186728.3824468085, 178991.9180851064, 174038.49574468084, 168876.46482712767, 163819.36429521276, 158982.1829787234, 154393.94295212766, 150047.95212765958, 145924.0662898936, 141998.38184840424, 138247.38843085108, 134649.52898936172, 131185.74265292555, 127839.43670212766, 124596.24906914894, 121443.85388962766, 118371.6652925532, 115370.6157912234, 112432.89039228723, 109551.80056515957, 106721.62692819149, 103937.46898271277, 101195.08553856383]\n",
            "\n"
          ],
          "name": "stdout"
        },
        {
          "output_type": "stream",
          "text": [
            "\n",
            "\n",
            "\n",
            "\n",
            "\n",
            "\n",
            "\n",
            "\n",
            "\n",
            "\n",
            "\n",
            "\n",
            "\n",
            "\n",
            "\n",
            "\n",
            "\n",
            " 24%|██▍       | 24/100 [00:37<01:59,  1.57s/it]\u001b[A\u001b[A\u001b[A\u001b[A\u001b[A\u001b[A\u001b[A\u001b[A\u001b[A\u001b[A\u001b[A\u001b[A\u001b[A\u001b[A\u001b[A\u001b[A\u001b[A"
          ],
          "name": "stderr"
        },
        {
          "output_type": "stream",
          "text": [
            "solver_losses = [186728.3824468085, 178991.9180851064, 174038.49574468084, 168876.46482712767, 163819.36429521276, 158982.1829787234, 154393.94295212766, 150047.95212765958, 145924.0662898936, 141998.38184840424, 138247.38843085108, 134649.52898936172, 131185.74265292555, 127839.43670212766, 124596.24906914894, 121443.85388962766, 118371.6652925532, 115370.6157912234, 112432.89039228723, 109551.80056515957, 106721.62692819149, 103937.46898271277, 101195.08553856383, 98490.91419547872]\n",
            "\n"
          ],
          "name": "stdout"
        },
        {
          "output_type": "stream",
          "text": [
            "\n",
            "\n",
            "\n",
            "\n",
            "\n",
            "\n",
            "\n",
            "\n",
            "\n",
            "\n",
            "\n",
            "\n",
            "\n",
            "\n",
            "\n",
            "\n",
            "\n",
            " 25%|██▌       | 25/100 [00:39<01:57,  1.57s/it]\u001b[A\u001b[A\u001b[A\u001b[A\u001b[A\u001b[A\u001b[A\u001b[A\u001b[A\u001b[A\u001b[A\u001b[A\u001b[A\u001b[A\u001b[A\u001b[A\u001b[A"
          ],
          "name": "stderr"
        },
        {
          "output_type": "stream",
          "text": [
            "solver_losses = [186728.3824468085, 178991.9180851064, 174038.49574468084, 168876.46482712767, 163819.36429521276, 158982.1829787234, 154393.94295212766, 150047.95212765958, 145924.0662898936, 141998.38184840424, 138247.38843085108, 134649.52898936172, 131185.74265292555, 127839.43670212766, 124596.24906914894, 121443.85388962766, 118371.6652925532, 115370.6157912234, 112432.89039228723, 109551.80056515957, 106721.62692819149, 103937.46898271277, 101195.08553856383, 98490.91419547872, 95821.87230718085]\n",
            "\n"
          ],
          "name": "stdout"
        },
        {
          "output_type": "stream",
          "text": [
            "\n",
            "\n",
            "\n",
            "\n",
            "\n",
            "\n",
            "\n",
            "\n",
            "\n",
            "\n",
            "\n",
            "\n",
            "\n",
            "\n",
            "\n",
            "\n",
            "\n",
            " 26%|██▌       | 26/100 [00:40<01:55,  1.56s/it]\u001b[A\u001b[A\u001b[A\u001b[A\u001b[A\u001b[A\u001b[A\u001b[A\u001b[A\u001b[A\u001b[A\u001b[A\u001b[A\u001b[A\u001b[A\u001b[A\u001b[A"
          ],
          "name": "stderr"
        },
        {
          "output_type": "stream",
          "text": [
            "solver_losses = [186728.3824468085, 178991.9180851064, 174038.49574468084, 168876.46482712767, 163819.36429521276, 158982.1829787234, 154393.94295212766, 150047.95212765958, 145924.0662898936, 141998.38184840424, 138247.38843085108, 134649.52898936172, 131185.74265292555, 127839.43670212766, 124596.24906914894, 121443.85388962766, 118371.6652925532, 115370.6157912234, 112432.89039228723, 109551.80056515957, 106721.62692819149, 103937.46898271277, 101195.08553856383, 98490.91419547872, 95821.87230718085, 93185.40036569149]\n",
            "\n"
          ],
          "name": "stdout"
        },
        {
          "output_type": "stream",
          "text": [
            "\n",
            "\n",
            "\n",
            "\n",
            "\n",
            "\n",
            "\n",
            "\n",
            "\n",
            "\n",
            "\n",
            "\n",
            "\n",
            "\n",
            "\n",
            "\n",
            "\n"
          ],
          "name": "stderr"
        }
      ]
    },
    {
      "cell_type": "code",
      "metadata": {
        "id": "gT9tnUOKFyZY",
        "colab_type": "code",
        "colab": {}
      },
      "source": [
        ""
      ],
      "execution_count": 0,
      "outputs": []
    }
  ]
}